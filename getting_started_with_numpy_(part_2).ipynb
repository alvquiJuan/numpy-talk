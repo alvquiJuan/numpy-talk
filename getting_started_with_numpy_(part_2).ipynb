{
  "nbformat": 4,
  "nbformat_minor": 0,
  "metadata": {
    "colab": {
      "name": "getting started with numpy (part 2)",
      "version": "0.3.2",
      "provenance": [],
      "collapsed_sections": [],
      "include_colab_link": true
    },
    "kernelspec": {
      "name": "python3",
      "display_name": "Python 3"
    }
  },
  "cells": [
    {
      "cell_type": "markdown",
      "metadata": {
        "id": "view-in-github",
        "colab_type": "text"
      },
      "source": [
        "<a href=\"https://colab.research.google.com/github/alvquiJuan/numpy-talk/blob/master/getting_started_with_numpy_(part_2).ipynb\" target=\"_parent\"><img src=\"https://colab.research.google.com/assets/colab-badge.svg\" alt=\"Open In Colab\"/></a>"
      ]
    },
    {
      "metadata": {
        "id": "E8c8v0iofu8b",
        "colab_type": "code",
        "outputId": "09251f06-5090-4d11-f9cc-a8409de589b8",
        "colab": {
          "base_uri": "https://localhost:8080/",
          "height": 85
        }
      },
      "cell_type": "code",
      "source": [
        "import numpy as np\n",
        "my_array=np.linspace(0,10,23)\n",
        "print(my_array)\n"
      ],
      "execution_count": 0,
      "outputs": [
        {
          "output_type": "stream",
          "text": [
            "[ 0.          0.45454545  0.90909091  1.36363636  1.81818182  2.27272727\n",
            "  2.72727273  3.18181818  3.63636364  4.09090909  4.54545455  5.\n",
            "  5.45454545  5.90909091  6.36363636  6.81818182  7.27272727  7.72727273\n",
            "  8.18181818  8.63636364  9.09090909  9.54545455 10.        ]\n"
          ],
          "name": "stdout"
        }
      ]
    },
    {
      "metadata": {
        "id": "0RPYRQb2gwaP",
        "colab_type": "code",
        "outputId": "56504ef0-28dc-4096-bf90-1783dea07aa3",
        "colab": {
          "base_uri": "https://localhost:8080/",
          "height": 34
        }
      },
      "cell_type": "code",
      "source": [
        "fith_element=my_array[4]\n",
        "print(fith_element)"
      ],
      "execution_count": 0,
      "outputs": [
        {
          "output_type": "stream",
          "text": [
            "1.8181818181818181\n"
          ],
          "name": "stdout"
        }
      ]
    },
    {
      "metadata": {
        "id": "gcjO21-jksVs",
        "colab_type": "code",
        "outputId": "641ccded-451e-45c6-8f15-26ea78a95edf",
        "colab": {
          "base_uri": "https://localhost:8080/",
          "height": 85
        }
      },
      "cell_type": "code",
      "source": [
        "after_fith=my_array[4:]\n",
        "print(after_fith)"
      ],
      "execution_count": 0,
      "outputs": [
        {
          "output_type": "stream",
          "text": [
            "[ 1.81818182  2.27272727  2.72727273  3.18181818  3.63636364  4.09090909\n",
            "  4.54545455  5.          5.45454545  5.90909091  6.36363636  6.81818182\n",
            "  7.27272727  7.72727273  8.18181818  8.63636364  9.09090909  9.54545455\n",
            " 10.        ]\n"
          ],
          "name": "stdout"
        }
      ]
    },
    {
      "metadata": {
        "id": "FWikXS-AksUm",
        "colab_type": "code",
        "outputId": "70c10f76-d4dd-473f-9e2e-3432e304c796",
        "colab": {
          "base_uri": "https://localhost:8080/",
          "height": 34
        }
      },
      "cell_type": "code",
      "source": [
        "before_fith=my_array[:4]\n",
        "print(before_fith)"
      ],
      "execution_count": 0,
      "outputs": [
        {
          "output_type": "stream",
          "text": [
            "[0.         0.45454545 0.90909091 1.36363636]\n"
          ],
          "name": "stdout"
        }
      ]
    },
    {
      "metadata": {
        "id": "oMgFcRoJl38B",
        "colab_type": "code",
        "outputId": "b5017fa4-6db3-4f81-911a-695df6611d46",
        "colab": {
          "base_uri": "https://localhost:8080/",
          "height": 34
        }
      },
      "cell_type": "code",
      "source": [
        "fith_last=my_array[-4]\n",
        "print(fith_last)"
      ],
      "execution_count": 0,
      "outputs": [
        {
          "output_type": "stream",
          "text": [
            "8.636363636363637\n"
          ],
          "name": "stdout"
        }
      ]
    },
    {
      "metadata": {
        "id": "2eyUOohWmSp8",
        "colab_type": "code",
        "outputId": "fa96e66e-1600-4044-f056-303f6a484bab",
        "colab": {
          "base_uri": "https://localhost:8080/",
          "height": 68
        }
      },
      "cell_type": "code",
      "source": [
        "intermediate=my_array[4:-4]\n",
        "print(intermediate)"
      ],
      "execution_count": 0,
      "outputs": [
        {
          "output_type": "stream",
          "text": [
            "[1.81818182 2.27272727 2.72727273 3.18181818 3.63636364 4.09090909\n",
            " 4.54545455 5.         5.45454545 5.90909091 6.36363636 6.81818182\n",
            " 7.27272727 7.72727273 8.18181818]\n"
          ],
          "name": "stdout"
        }
      ]
    },
    {
      "metadata": {
        "id": "gm1JWyi7mSpF",
        "colab_type": "code",
        "outputId": "5aedec96-2992-438d-f611-c4c98c4b02a5",
        "colab": {
          "base_uri": "https://localhost:8080/",
          "height": 204
        }
      },
      "cell_type": "code",
      "source": [
        "np.random.seed(42)\n",
        "a=np.random.rand(9)\n",
        "b=np.random.rand(9)\n",
        "print(a)\n",
        "print(b)\n",
        "c=a+b\n",
        "print(c)\n",
        "d=a-b\n",
        "print(d)\n",
        "m=a.reshape(3,3)\n",
        "print(m)\n"
      ],
      "execution_count": 0,
      "outputs": [
        {
          "output_type": "stream",
          "text": [
            "[0.37454012 0.95071431 0.73199394 0.59865848 0.15601864 0.15599452\n",
            " 0.05808361 0.86617615 0.60111501]\n",
            "[0.70807258 0.02058449 0.96990985 0.83244264 0.21233911 0.18182497\n",
            " 0.18340451 0.30424224 0.52475643]\n",
            "[1.0826127  0.9712988  1.70190379 1.43110112 0.36835775 0.33781949\n",
            " 0.24148812 1.17041839 1.12587144]\n",
            "[-0.33353246  0.93012981 -0.23791591 -0.23378416 -0.05632047 -0.02583045\n",
            " -0.1253209   0.5619339   0.07635858]\n",
            "[[0.37454012 0.95071431 0.73199394]\n",
            " [0.59865848 0.15601864 0.15599452]\n",
            " [0.05808361 0.86617615 0.60111501]]\n"
          ],
          "name": "stdout"
        }
      ]
    }
  ]
}